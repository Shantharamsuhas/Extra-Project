{
  "nbformat": 4,
  "nbformat_minor": 0,
  "metadata": {
    "colab": {
      "name": "Solution.ipynb",
      "provenance": [],
      "collapsed_sections": [
        "KTeEo5tOPgwd",
        "lKCtkbksPkbq",
        "Sv5SEeqrPk1Z"
      ]
    },
    "kernelspec": {
      "name": "python3",
      "display_name": "Python 3"
    },
    "language_info": {
      "name": "python"
    }
  },
  "cells": [
    {
      "cell_type": "markdown",
      "metadata": {
        "id": "KTeEo5tOPgwd"
      },
      "source": [
        "# Setup\n",
        "\n",
        "* Importing libraries required for programs\n",
        "\n",
        "* Setting up variables for file paths, field datatypes , keys and other important items that would be used later\n",
        "\n",
        "**Sources**\n",
        "1. GDELT Schema information: http://data.gdeltproject.org/documentation/GDELT-Event_Codebook-V2.0.pdf\n",
        "\n",
        "2. About GDELT duplicate issue: http://causalloop.blogspot.com/2014/05/how-bad-are-duplication-problems-in.html\n",
        "\n",
        "\n",
        "### Task\n",
        "\n",
        "**Description:**\n",
        "\n",
        "GDELT is a large public dataset provided by Google. \n",
        "\n",
        "It basically consists of three parts: Events, Mentions and the Global Knowledge Graph (GKG). The full dataset is in the terabytes and updates every 15 minutes. \n",
        "\n",
        "For now, we just care about the Events dataset.\n",
        "\n",
        " \n",
        "\n",
        "Google releases the data every 15 minutes as zipped CSV files which can be found here:\n",
        "\n",
        "http://data.gdeltproject.org/gdeltv2/lastupdate.txt\n",
        "\n",
        " \n",
        "\n",
        "**Task:**\n",
        "\n",
        "Write a Python script that checks if there is a new release of the Events dataset (the first link in the list). If there is a new dataset available, download the CSV file and save it as Parquet file. The resulting Parquet file should grow incrementally, i.e., it should be updated whenever there is a new release – which is usually every 15 minutes. One important requirement is, that the resulting Parquet file does not contain duplicates.\n",
        "\n",
        "\n",
        "**Proposed Solution:**\n",
        "1. Hit the URL and check if the release is new or still reflecting old. If its an older release then ignore. \n",
        "\n",
        "2. If its a newer release then dowload it into pandas dataframe. We enforce column names and datatypes as mentioned in official schema document mentioned in the source.\n",
        "\n",
        "3. As per link mentioned in the sources, Same news can be reshared multiple times which ends up wt lot of duplicates\n",
        "\n",
        "4. We refer to column \"SOURCEURL\" and use it to drop the duplicates within the current events release\n",
        "\n",
        "5. Current events release might also have some duplicates with previous releases. To resolve this we need to check duplicates against entire parquet table, which could become troublesome if table size is huge.\n",
        "\n",
        "6. Hence we always check for previous partitions data and compare it with current events data to remove duplicates. Hence for next release the previous partition with have no duplicates and so on. This helps to not scan entire table\n",
        "\n",
        "\n",
        "7. After cleaning we make use of dask and pyarrow libraries to write it into parquet file. If parquet file is not present for first time it would be created else we append to the same file. "
      ]
    },
    {
      "cell_type": "code",
      "metadata": {
        "id": "Tzwosea6OETS"
      },
      "source": [
        "#Import the required libraries\n",
        "from urllib.request import urlopen\n",
        "from bs4 import BeautifulSoup\n",
        "import zipfile,io\n",
        "import pandas as pd\n",
        "import glob\n",
        "import os\n",
        "import sys\n",
        "import schedule\n",
        "import time\n"
      ],
      "execution_count": 1,
      "outputs": []
    },
    {
      "cell_type": "code",
      "metadata": {
        "colab": {
          "base_uri": "https://localhost:8080/"
        },
        "id": "FVqGtQ3nOwsg",
        "outputId": "4607718e-c540-4a45-9b81-9ad116bb37d1"
      },
      "source": [
        "!python -m pip install 'fsspec>=0.3.3'\n",
        "!pip install fastparquet\n",
        "!pip install schedule"
      ],
      "execution_count": 2,
      "outputs": [
        {
          "output_type": "stream",
          "text": [
            "Requirement already satisfied: fsspec>=0.3.3 in /usr/local/lib/python3.7/dist-packages (2021.5.0)\n",
            "Requirement already satisfied: fastparquet in /usr/local/lib/python3.7/dist-packages (0.6.3)\n",
            "Requirement already satisfied: fsspec in /usr/local/lib/python3.7/dist-packages (from fastparquet) (2021.5.0)\n",
            "Requirement already satisfied: pandas>=1.1.0 in /usr/local/lib/python3.7/dist-packages (from fastparquet) (1.1.5)\n",
            "Requirement already satisfied: thrift>=0.11.0 in /usr/local/lib/python3.7/dist-packages (from fastparquet) (0.13.0)\n",
            "Requirement already satisfied: cramjam>=2.3.0 in /usr/local/lib/python3.7/dist-packages (from fastparquet) (2.3.2)\n",
            "Requirement already satisfied: numpy>=1.11 in /usr/local/lib/python3.7/dist-packages (from fastparquet) (1.19.5)\n",
            "Requirement already satisfied: pytz>=2017.2 in /usr/local/lib/python3.7/dist-packages (from pandas>=1.1.0->fastparquet) (2018.9)\n",
            "Requirement already satisfied: python-dateutil>=2.7.3 in /usr/local/lib/python3.7/dist-packages (from pandas>=1.1.0->fastparquet) (2.8.1)\n",
            "Requirement already satisfied: six>=1.7.2 in /usr/local/lib/python3.7/dist-packages (from thrift>=0.11.0->fastparquet) (1.15.0)\n",
            "Requirement already satisfied: schedule in /usr/local/lib/python3.7/dist-packages (1.1.0)\n"
          ],
          "name": "stdout"
        }
      ]
    },
    {
      "cell_type": "code",
      "metadata": {
        "id": "zyQARZ9sOzEw"
      },
      "source": [
        "import pyarrow.parquet as pq\n",
        "import pyarrow as pa\n",
        "import dask.dataframe as dd \n",
        "import fastparquet"
      ],
      "execution_count": 3,
      "outputs": []
    },
    {
      "cell_type": "code",
      "metadata": {
        "colab": {
          "base_uri": "https://localhost:8080/"
        },
        "id": "ENarF7NcOsGN",
        "outputId": "8a57df8f-0c27-455d-e12d-a8a1056e2e96"
      },
      "source": [
        "from google.colab import drive\n",
        "drive.mount(\"/content/drive\")"
      ],
      "execution_count": 4,
      "outputs": [
        {
          "output_type": "stream",
          "text": [
            "Drive already mounted at /content/drive; to attempt to forcibly remount, call drive.mount(\"/content/drive\", force_remount=True).\n"
          ],
          "name": "stdout"
        }
      ]
    },
    {
      "cell_type": "code",
      "metadata": {
        "id": "T9_AcOMhQNyt"
      },
      "source": [
        "url = \"http://data.gdeltproject.org/gdeltv2/lastupdate.txt\""
      ],
      "execution_count": 5,
      "outputs": []
    },
    {
      "cell_type": "code",
      "metadata": {
        "id": "kz0ZkxF-OsNx"
      },
      "source": [
        "# file_list = sorted(glob.glob(\"/content/drive/MyDrive/datasets/*.CSV\"))\n",
        "# file_list"
      ],
      "execution_count": 6,
      "outputs": []
    },
    {
      "cell_type": "code",
      "metadata": {
        "id": "LxwLLhGJPOTS"
      },
      "source": [
        "#Enforce the schema of CSV file\n",
        "dataframe_field_types = [\n",
        "    ('GlobalEventID', 'int64'),\n",
        "    ('Day', 'int64'),\n",
        "    ('MonthYear', 'int64'),\n",
        "    ('Year', 'int64'),\n",
        "    ('FractionDate', 'float64'),\n",
        "    ('Actor1Code', 'object'),\n",
        "    ('Actor1Name', 'object'),\n",
        "    ('Actor1CountryCode', 'object'),\n",
        "    ('Actor1KnownGroupCode', 'object'),\n",
        "    ('Actor1EthnicCode', 'object'),\n",
        "    ('Actor1Religion1Code', 'object'),\n",
        "    ('Actor1Religion2Code', 'object'),\n",
        "    ('Actor1Type1Code', 'object'),\n",
        "    ('Actor1Type2Code', 'object'),\n",
        "    ('Actor1Type3Code', 'object'),\n",
        "    ('Actor2Code', 'object'),\n",
        "    ('Actor2Name', 'object'),\n",
        "    ('Actor2CountryCode', 'object'),\n",
        "    ('Actor2KnownGroupCode', 'object'),\n",
        "    ('Actor2EthnicCode', 'object'),\n",
        "    ('Actor2Religion1Code', 'object'),\n",
        "    ('Actor2Religion2Code', 'object'),\n",
        "    ('Actor2Type1Code', 'object'),\n",
        "    ('Actor2Type2Code', 'object'),\n",
        "    ('Actor2Type3Code', 'object'),\n",
        "    ('IsRootEvent', 'int64'),\n",
        "    ('EventCode', 'object'),\n",
        "    ('EventBaseCode', 'object'),\n",
        "    ('EventRootCode', 'object'),\n",
        "    ('QuadClass', 'int64'),\n",
        "    ('GoldsteinScale', 'float64'),\n",
        "    ('NumMentions', 'int64'),\n",
        "    ('NumSources', 'int64'),\n",
        "    ('NumArticles', 'int64'),\n",
        "    ('AvgTone', 'float64'),\n",
        "    ('Actor1Geo_Type', 'int64'),\n",
        "    ('Actor1Geo_Fullname', 'object'),\n",
        "    ('Actor1Geo_CountryCode', 'object'),\n",
        "    ('Actor1Geo_ADM1Code', 'object'),\n",
        "    ('Actor1Geo_ADM2Code', 'object'),\n",
        "    ('Actor1Geo_Lat', 'float64'),\n",
        "    ('Actor1Geo_Long', 'float64'),\n",
        "    ('Actor1Geo_FeatureID', 'object'),\n",
        "    ('Actor2Geo_Type', 'int64'),\n",
        "    ('Actor2Geo_Fullname', 'object'),\n",
        "    ('Actor2Geo_CountryCode', 'object'),\n",
        "    ('Actor2Geo_ADM1Code', 'object'),\n",
        "    ('Actor2Geo_ADM2Code', 'object'),\n",
        "    ('Actor2Geo_Lat', 'float64'),\n",
        "    ('Actor2Geo_Long', 'float64'),\n",
        "    ('Actor2Geo_FeatureID', 'object'),\n",
        "    ('ActionGeo_Type', 'int64'),\n",
        "    ('ActionGeo_Fullname', 'object'),\n",
        "    ('ActionGeo_CountryCode', 'object'),\n",
        "    ('ActionGeo_ADM1Code', 'object'),\n",
        "    ('ActionGeo_ADM2Code', 'object'),\n",
        "    ('ActionGeo_Lat', 'float64'),\n",
        "    ('ActionGeo_Long', 'float64'),\n",
        "    ('ActionGeo_FeatureID', 'object'),\n",
        "    ('DATEADDED', 'int64'),\n",
        "    ('SOURCEURL', 'object')\n",
        "    ]"
      ],
      "execution_count": 7,
      "outputs": []
    },
    {
      "cell_type": "code",
      "metadata": {
        "id": "YuJRTxAAOsQx"
      },
      "source": [
        "#Initilizing field types and column names for given data\n",
        "dataframe_field_type_dict = {}\n",
        "ind = 0\n",
        "for item in dataframe_field_types:\n",
        "  dataframe_field_type_dict[ind] = item[1]\n",
        "  ind = ind+1\n",
        "\n",
        "dataframe_field_name_lst = []\n",
        "\n",
        "for item in dataframe_field_types:\n",
        "  dataframe_field_name_lst.append(item[0])\n"
      ],
      "execution_count": 8,
      "outputs": []
    },
    {
      "cell_type": "code",
      "metadata": {
        "id": "8Ivt1u4dPYqq"
      },
      "source": [
        "#Enforce the schema of Parquet file\n",
        "myfields = [\n",
        "    ('GlobalEventID', pa.int64()),\n",
        "    ('Day', pa.int64()),\n",
        "    ('MonthYear', pa.int64()),\n",
        "    ('Year', pa.int64()),\n",
        "    ('FractionDate', pa.float64()),\n",
        "    ('Actor1Code', pa.string()),\n",
        "    ('Actor1Name', pa.string()),\n",
        "    ('Actor1CountryCode', pa.string()),\n",
        "    ('Actor1KnownGroupCode', pa.string()),\n",
        "    ('Actor1EthnicCode', pa.string()),\n",
        "    ('Actor1Religion1Code', pa.string()),\n",
        "    ('Actor1Religion2Code', pa.string()),\n",
        "    ('Actor1Type1Code', pa.string()),\n",
        "    ('Actor1Type2Code', pa.string()),\n",
        "    ('Actor1Type3Code', pa.string()),\n",
        "    ('Actor2Code', pa.string()),\n",
        "    ('Actor2Name', pa.string()),\n",
        "    ('Actor2CountryCode', pa.string()),\n",
        "    ('Actor2KnownGroupCode', pa.string()),\n",
        "    ('Actor2EthnicCode', pa.string()),\n",
        "    ('Actor2Religion1Code', pa.string()),\n",
        "    ('Actor2Religion2Code', pa.string()),\n",
        "    ('Actor2Type1Code', pa.string()),\n",
        "    ('Actor2Type2Code', pa.string()),\n",
        "    ('Actor2Type3Code', pa.string()),\n",
        "    ('IsRootEvent', pa.int64()),\n",
        "    ('EventCode', pa.string()),\n",
        "    ('EventBaseCode', pa.string()),\n",
        "    ('EventRootCode', pa.string()),\n",
        "    ('QuadClass', pa.int64()),\n",
        "    ('GoldsteinScale', pa.float64()),\n",
        "    ('NumMentions', pa.int64()),\n",
        "    ('NumSources', pa.int64()),\n",
        "    ('NumArticles', pa.int64()),\n",
        "    ('AvgTone', pa.float64()),\n",
        "    ('Actor1Geo_Type', pa.int64()),\n",
        "    ('Actor1Geo_Fullname', pa.string()),\n",
        "    ('Actor1Geo_CountryCode', pa.string()),\n",
        "    ('Actor1Geo_ADM1Code', pa.string()),\n",
        "    ('Actor1Geo_ADM2Code', pa.string()),\n",
        "    ('Actor1Geo_Lat', pa.float64()),\n",
        "    ('Actor1Geo_Long', pa.float64()),\n",
        "    ('Actor1Geo_FeatureID', pa.string()),\n",
        "    ('Actor2Geo_Type', pa.int64()),\n",
        "    ('Actor2Geo_Fullname', pa.string()),\n",
        "    ('Actor2Geo_CountryCode', pa.string()),\n",
        "    ('Actor2Geo_ADM1Code', pa.string()),\n",
        "    ('Actor2Geo_ADM2Code', pa.string()),\n",
        "    ('Actor2Geo_Lat', pa.float64()),\n",
        "    ('Actor2Geo_Long', pa.float64()),\n",
        "    ('Actor2Geo_FeatureID', pa.string()),\n",
        "    ('ActionGeo_Type', pa.int64()),\n",
        "    ('ActionGeo_Fullname', pa.string()),\n",
        "    ('ActionGeo_CountryCode', pa.string()),\n",
        "    ('ActionGeo_ADM1Code', pa.string()),\n",
        "    ('ActionGeo_ADM2Code', pa.string()),\n",
        "    ('ActionGeo_Lat', pa.float64()),\n",
        "    ('ActionGeo_Long', pa.float64()),\n",
        "    ('ActionGeo_FeatureID', pa.string()),\n",
        "    ('DATEADDED', pa.int64()),\n",
        "    ('SOURCEURL', pa.string()),\n",
        "    ]"
      ],
      "execution_count": 9,
      "outputs": []
    },
    {
      "cell_type": "code",
      "metadata": {
        "id": "42TFW9-EPYtg"
      },
      "source": [
        "parquet_schema_dict = {}\n",
        "for item in myfields:\n",
        "  parquet_schema_dict[item[0]] = item[1]"
      ],
      "execution_count": 10,
      "outputs": []
    },
    {
      "cell_type": "code",
      "metadata": {
        "id": "alCdl58dPYwi"
      },
      "source": [
        "\n",
        "gdelt_parquet_file_path = '/content/gdelt_events.parquet'"
      ],
      "execution_count": 11,
      "outputs": []
    },
    {
      "cell_type": "code",
      "metadata": {
        "id": "sDp609HtPYz4"
      },
      "source": [
        ""
      ],
      "execution_count": 11,
      "outputs": []
    },
    {
      "cell_type": "markdown",
      "metadata": {
        "id": "lKCtkbksPkbq"
      },
      "source": [
        "# Read from given link\n",
        "\n",
        "* Function that  would hit the link, read the file\n",
        "* Later this would be passed to another function to return the dataframe"
      ]
    },
    {
      "cell_type": "code",
      "metadata": {
        "id": "0ij06-aQQ7I4"
      },
      "source": [
        "# From given file path generate pandas dataframe with column names and data types as per schema document\n",
        "def read_csv_to_dataframe(fil_path, field_dicts, separator, field_types):\n",
        "  df = pd.read_csv(fil_path, header=None, dtype=field_dicts, sep=separator, names=field_types)\n",
        "  return df\n"
      ],
      "execution_count": 12,
      "outputs": []
    },
    {
      "cell_type": "code",
      "metadata": {
        "id": "mvryZ_cmQERy"
      },
      "source": [
        "# Hit the url and down load the file\n",
        "def load_new_data(url=url):\n",
        "    \n",
        "    html = urlopen(url).read()\n",
        "    soup = BeautifulSoup(html, features=\"html.parser\")\n",
        "\n",
        "\n",
        "    # kill all script and style elements\n",
        "    for script in soup([\"script\", \"style\"]):\n",
        "        script.extract()    # rip it out\n",
        "\n",
        "    # get text\n",
        "    text = soup.get_text()\n",
        "\n",
        "    # break into lines and remove leading and trailing space on each\n",
        "    lines = (line.strip() for line in text.splitlines())\n",
        "    # break multi-headlines into a line each\n",
        "    chunks = (phrase.strip() for line in lines for phrase in line.split(\"  \"))\n",
        "    # drop blank lines\n",
        "    text = '\\n'.join(chunk for chunk in chunks if chunk)\n",
        "\n",
        "    print(text)\n",
        "    resp = urlopen(text[text.find(\"http\"):text.find(\"zip\")+3])\n",
        "    z = zipfile.ZipFile(io.BytesIO(resp.read()))\n",
        "    currflpth=z.open(z.namelist()[0])\n",
        "    return read_csv_to_dataframe(currflpth,field_dicts=dataframe_field_type_dict,separator=\"\\t\", field_types=dataframe_field_name_lst)"
      ],
      "execution_count": 13,
      "outputs": []
    },
    {
      "cell_type": "code",
      "metadata": {
        "colab": {
          "base_uri": "https://localhost:8080/"
        },
        "id": "7qOhWHstQEUX",
        "outputId": "af202272-61b4-4017-d289-3eaad54b2908"
      },
      "source": [
        "current_mdf=load_new_data(url)"
      ],
      "execution_count": 14,
      "outputs": [
        {
          "output_type": "stream",
          "text": [
            "97368 94d0ee7a187dc36756849b8448a8893c http://data.gdeltproject.org/gdeltv2/20210603204500.export.CSV.zip\n",
            "167216 ea70f65cb6149b8bc38d2022c23736cd http://data.gdeltproject.org/gdeltv2/20210603204500.mentions.CSV.zip\n",
            "7446267 e789b3333692668e10f5aa67152587d0 http://data.gdeltproject.org/gdeltv2/20210603204500.gkg.csv.zip\n"
          ],
          "name": "stdout"
        }
      ]
    },
    {
      "cell_type": "code",
      "metadata": {
        "colab": {
          "base_uri": "https://localhost:8080/"
        },
        "id": "bN1uYCCwQEXq",
        "outputId": "b1e1daec-cc29-4cbf-ece7-c3e8a4fcc335"
      },
      "source": [
        "current_mdf.shape"
      ],
      "execution_count": 15,
      "outputs": [
        {
          "output_type": "execute_result",
          "data": {
            "text/plain": [
              "(1381, 61)"
            ]
          },
          "metadata": {
            "tags": []
          },
          "execution_count": 15
        }
      ]
    },
    {
      "cell_type": "code",
      "metadata": {
        "colab": {
          "base_uri": "https://localhost:8080/",
          "height": 0
        },
        "id": "S2AF0B8OSLeK",
        "outputId": "bfe5abed-c90c-4538-c874-539459c8360f"
      },
      "source": [
        "current_mdf.head()"
      ],
      "execution_count": 16,
      "outputs": [
        {
          "output_type": "execute_result",
          "data": {
            "text/html": [
              "<div>\n",
              "<style scoped>\n",
              "    .dataframe tbody tr th:only-of-type {\n",
              "        vertical-align: middle;\n",
              "    }\n",
              "\n",
              "    .dataframe tbody tr th {\n",
              "        vertical-align: top;\n",
              "    }\n",
              "\n",
              "    .dataframe thead th {\n",
              "        text-align: right;\n",
              "    }\n",
              "</style>\n",
              "<table border=\"1\" class=\"dataframe\">\n",
              "  <thead>\n",
              "    <tr style=\"text-align: right;\">\n",
              "      <th></th>\n",
              "      <th>GlobalEventID</th>\n",
              "      <th>Day</th>\n",
              "      <th>MonthYear</th>\n",
              "      <th>Year</th>\n",
              "      <th>FractionDate</th>\n",
              "      <th>Actor1Code</th>\n",
              "      <th>Actor1Name</th>\n",
              "      <th>Actor1CountryCode</th>\n",
              "      <th>Actor1KnownGroupCode</th>\n",
              "      <th>Actor1EthnicCode</th>\n",
              "      <th>Actor1Religion1Code</th>\n",
              "      <th>Actor1Religion2Code</th>\n",
              "      <th>Actor1Type1Code</th>\n",
              "      <th>Actor1Type2Code</th>\n",
              "      <th>Actor1Type3Code</th>\n",
              "      <th>Actor2Code</th>\n",
              "      <th>Actor2Name</th>\n",
              "      <th>Actor2CountryCode</th>\n",
              "      <th>Actor2KnownGroupCode</th>\n",
              "      <th>Actor2EthnicCode</th>\n",
              "      <th>Actor2Religion1Code</th>\n",
              "      <th>Actor2Religion2Code</th>\n",
              "      <th>Actor2Type1Code</th>\n",
              "      <th>Actor2Type2Code</th>\n",
              "      <th>Actor2Type3Code</th>\n",
              "      <th>IsRootEvent</th>\n",
              "      <th>EventCode</th>\n",
              "      <th>EventBaseCode</th>\n",
              "      <th>EventRootCode</th>\n",
              "      <th>QuadClass</th>\n",
              "      <th>GoldsteinScale</th>\n",
              "      <th>NumMentions</th>\n",
              "      <th>NumSources</th>\n",
              "      <th>NumArticles</th>\n",
              "      <th>AvgTone</th>\n",
              "      <th>Actor1Geo_Type</th>\n",
              "      <th>Actor1Geo_Fullname</th>\n",
              "      <th>Actor1Geo_CountryCode</th>\n",
              "      <th>Actor1Geo_ADM1Code</th>\n",
              "      <th>Actor1Geo_ADM2Code</th>\n",
              "      <th>Actor1Geo_Lat</th>\n",
              "      <th>Actor1Geo_Long</th>\n",
              "      <th>Actor1Geo_FeatureID</th>\n",
              "      <th>Actor2Geo_Type</th>\n",
              "      <th>Actor2Geo_Fullname</th>\n",
              "      <th>Actor2Geo_CountryCode</th>\n",
              "      <th>Actor2Geo_ADM1Code</th>\n",
              "      <th>Actor2Geo_ADM2Code</th>\n",
              "      <th>Actor2Geo_Lat</th>\n",
              "      <th>Actor2Geo_Long</th>\n",
              "      <th>Actor2Geo_FeatureID</th>\n",
              "      <th>ActionGeo_Type</th>\n",
              "      <th>ActionGeo_Fullname</th>\n",
              "      <th>ActionGeo_CountryCode</th>\n",
              "      <th>ActionGeo_ADM1Code</th>\n",
              "      <th>ActionGeo_ADM2Code</th>\n",
              "      <th>ActionGeo_Lat</th>\n",
              "      <th>ActionGeo_Long</th>\n",
              "      <th>ActionGeo_FeatureID</th>\n",
              "      <th>DATEADDED</th>\n",
              "      <th>SOURCEURL</th>\n",
              "    </tr>\n",
              "  </thead>\n",
              "  <tbody>\n",
              "    <tr>\n",
              "      <th>0</th>\n",
              "      <td>988405706</td>\n",
              "      <td>20200603</td>\n",
              "      <td>202006</td>\n",
              "      <td>2020</td>\n",
              "      <td>2020.4192</td>\n",
              "      <td>NaN</td>\n",
              "      <td>NaN</td>\n",
              "      <td>NaN</td>\n",
              "      <td>NaN</td>\n",
              "      <td>NaN</td>\n",
              "      <td>NaN</td>\n",
              "      <td>NaN</td>\n",
              "      <td>NaN</td>\n",
              "      <td>NaN</td>\n",
              "      <td>NaN</td>\n",
              "      <td>ESPBUS</td>\n",
              "      <td>SPANISH</td>\n",
              "      <td>ESP</td>\n",
              "      <td>NaN</td>\n",
              "      <td>NaN</td>\n",
              "      <td>NaN</td>\n",
              "      <td>NaN</td>\n",
              "      <td>BUS</td>\n",
              "      <td>NaN</td>\n",
              "      <td>NaN</td>\n",
              "      <td>1</td>\n",
              "      <td>042</td>\n",
              "      <td>042</td>\n",
              "      <td>04</td>\n",
              "      <td>1</td>\n",
              "      <td>1.9</td>\n",
              "      <td>2</td>\n",
              "      <td>1</td>\n",
              "      <td>2</td>\n",
              "      <td>-0.819672</td>\n",
              "      <td>0</td>\n",
              "      <td>NaN</td>\n",
              "      <td>NaN</td>\n",
              "      <td>NaN</td>\n",
              "      <td>NaN</td>\n",
              "      <td>NaN</td>\n",
              "      <td>NaN</td>\n",
              "      <td>NaN</td>\n",
              "      <td>1</td>\n",
              "      <td>Canada</td>\n",
              "      <td>CA</td>\n",
              "      <td>CA</td>\n",
              "      <td>NaN</td>\n",
              "      <td>60.0000</td>\n",
              "      <td>-96.0000</td>\n",
              "      <td>CA</td>\n",
              "      <td>1</td>\n",
              "      <td>Canada</td>\n",
              "      <td>CA</td>\n",
              "      <td>CA</td>\n",
              "      <td>NaN</td>\n",
              "      <td>60.0000</td>\n",
              "      <td>-96.0000</td>\n",
              "      <td>CA</td>\n",
              "      <td>20210603204500</td>\n",
              "      <td>http://www.journal-aviation.com/en/news/46098-...</td>\n",
              "    </tr>\n",
              "    <tr>\n",
              "      <th>1</th>\n",
              "      <td>988405707</td>\n",
              "      <td>20200603</td>\n",
              "      <td>202006</td>\n",
              "      <td>2020</td>\n",
              "      <td>2020.4192</td>\n",
              "      <td>BHR</td>\n",
              "      <td>BAHRAIN</td>\n",
              "      <td>BHR</td>\n",
              "      <td>NaN</td>\n",
              "      <td>NaN</td>\n",
              "      <td>NaN</td>\n",
              "      <td>NaN</td>\n",
              "      <td>NaN</td>\n",
              "      <td>NaN</td>\n",
              "      <td>NaN</td>\n",
              "      <td>IGOUNOHLHWHO</td>\n",
              "      <td>WORLD HEALTH ORGANIZATION</td>\n",
              "      <td>NaN</td>\n",
              "      <td>UNO</td>\n",
              "      <td>NaN</td>\n",
              "      <td>NaN</td>\n",
              "      <td>NaN</td>\n",
              "      <td>IGO</td>\n",
              "      <td>HLH</td>\n",
              "      <td>NaN</td>\n",
              "      <td>1</td>\n",
              "      <td>030</td>\n",
              "      <td>030</td>\n",
              "      <td>03</td>\n",
              "      <td>1</td>\n",
              "      <td>4.0</td>\n",
              "      <td>10</td>\n",
              "      <td>1</td>\n",
              "      <td>10</td>\n",
              "      <td>0.000000</td>\n",
              "      <td>1</td>\n",
              "      <td>Bahrain</td>\n",
              "      <td>BA</td>\n",
              "      <td>BA</td>\n",
              "      <td>NaN</td>\n",
              "      <td>26.0000</td>\n",
              "      <td>50.5000</td>\n",
              "      <td>BA</td>\n",
              "      <td>1</td>\n",
              "      <td>Bahrain</td>\n",
              "      <td>BA</td>\n",
              "      <td>BA</td>\n",
              "      <td>NaN</td>\n",
              "      <td>26.0000</td>\n",
              "      <td>50.5000</td>\n",
              "      <td>BA</td>\n",
              "      <td>1</td>\n",
              "      <td>Bahrain</td>\n",
              "      <td>BA</td>\n",
              "      <td>BA</td>\n",
              "      <td>NaN</td>\n",
              "      <td>26.0000</td>\n",
              "      <td>50.5000</td>\n",
              "      <td>BA</td>\n",
              "      <td>20210603204500</td>\n",
              "      <td>https://arynews.tv/en/bahrain-booster-sinophar...</td>\n",
              "    </tr>\n",
              "    <tr>\n",
              "      <th>2</th>\n",
              "      <td>988405708</td>\n",
              "      <td>20200603</td>\n",
              "      <td>202006</td>\n",
              "      <td>2020</td>\n",
              "      <td>2020.4192</td>\n",
              "      <td>CVL</td>\n",
              "      <td>HUNTER</td>\n",
              "      <td>NaN</td>\n",
              "      <td>NaN</td>\n",
              "      <td>NaN</td>\n",
              "      <td>NaN</td>\n",
              "      <td>NaN</td>\n",
              "      <td>CVL</td>\n",
              "      <td>NaN</td>\n",
              "      <td>NaN</td>\n",
              "      <td>HLH</td>\n",
              "      <td>SURGEON</td>\n",
              "      <td>NaN</td>\n",
              "      <td>NaN</td>\n",
              "      <td>NaN</td>\n",
              "      <td>NaN</td>\n",
              "      <td>NaN</td>\n",
              "      <td>HLH</td>\n",
              "      <td>NaN</td>\n",
              "      <td>NaN</td>\n",
              "      <td>0</td>\n",
              "      <td>010</td>\n",
              "      <td>010</td>\n",
              "      <td>01</td>\n",
              "      <td>1</td>\n",
              "      <td>0.0</td>\n",
              "      <td>1</td>\n",
              "      <td>1</td>\n",
              "      <td>1</td>\n",
              "      <td>-3.456221</td>\n",
              "      <td>3</td>\n",
              "      <td>Winston-Salem, North Carolina, United States</td>\n",
              "      <td>US</td>\n",
              "      <td>USNC</td>\n",
              "      <td>NC067</td>\n",
              "      <td>36.0999</td>\n",
              "      <td>-80.2442</td>\n",
              "      <td>997498</td>\n",
              "      <td>3</td>\n",
              "      <td>Winston-Salem, North Carolina, United States</td>\n",
              "      <td>US</td>\n",
              "      <td>USNC</td>\n",
              "      <td>NaN</td>\n",
              "      <td>36.0999</td>\n",
              "      <td>-80.2442</td>\n",
              "      <td>997498</td>\n",
              "      <td>3</td>\n",
              "      <td>Winston-Salem, North Carolina, United States</td>\n",
              "      <td>US</td>\n",
              "      <td>USNC</td>\n",
              "      <td>NaN</td>\n",
              "      <td>36.0999</td>\n",
              "      <td>-80.2442</td>\n",
              "      <td>997498</td>\n",
              "      <td>20210603204500</td>\n",
              "      <td>https://www.carolinajournal.com/news-article/s...</td>\n",
              "    </tr>\n",
              "    <tr>\n",
              "      <th>3</th>\n",
              "      <td>988405709</td>\n",
              "      <td>20200603</td>\n",
              "      <td>202006</td>\n",
              "      <td>2020</td>\n",
              "      <td>2020.4192</td>\n",
              "      <td>CVL</td>\n",
              "      <td>HUNTER</td>\n",
              "      <td>NaN</td>\n",
              "      <td>NaN</td>\n",
              "      <td>NaN</td>\n",
              "      <td>NaN</td>\n",
              "      <td>NaN</td>\n",
              "      <td>CVL</td>\n",
              "      <td>NaN</td>\n",
              "      <td>NaN</td>\n",
              "      <td>HLH</td>\n",
              "      <td>SURGEON</td>\n",
              "      <td>NaN</td>\n",
              "      <td>NaN</td>\n",
              "      <td>NaN</td>\n",
              "      <td>NaN</td>\n",
              "      <td>NaN</td>\n",
              "      <td>HLH</td>\n",
              "      <td>NaN</td>\n",
              "      <td>NaN</td>\n",
              "      <td>0</td>\n",
              "      <td>110</td>\n",
              "      <td>110</td>\n",
              "      <td>11</td>\n",
              "      <td>3</td>\n",
              "      <td>-2.0</td>\n",
              "      <td>1</td>\n",
              "      <td>1</td>\n",
              "      <td>1</td>\n",
              "      <td>-3.456221</td>\n",
              "      <td>3</td>\n",
              "      <td>Winston-Salem, North Carolina, United States</td>\n",
              "      <td>US</td>\n",
              "      <td>USNC</td>\n",
              "      <td>NC067</td>\n",
              "      <td>36.0999</td>\n",
              "      <td>-80.2442</td>\n",
              "      <td>997498</td>\n",
              "      <td>3</td>\n",
              "      <td>Winston-Salem, North Carolina, United States</td>\n",
              "      <td>US</td>\n",
              "      <td>USNC</td>\n",
              "      <td>NaN</td>\n",
              "      <td>36.0999</td>\n",
              "      <td>-80.2442</td>\n",
              "      <td>997498</td>\n",
              "      <td>3</td>\n",
              "      <td>Winston-Salem, North Carolina, United States</td>\n",
              "      <td>US</td>\n",
              "      <td>USNC</td>\n",
              "      <td>NaN</td>\n",
              "      <td>36.0999</td>\n",
              "      <td>-80.2442</td>\n",
              "      <td>997498</td>\n",
              "      <td>20210603204500</td>\n",
              "      <td>https://www.carolinajournal.com/news-article/s...</td>\n",
              "    </tr>\n",
              "    <tr>\n",
              "      <th>4</th>\n",
              "      <td>988405710</td>\n",
              "      <td>20200603</td>\n",
              "      <td>202006</td>\n",
              "      <td>2020</td>\n",
              "      <td>2020.4192</td>\n",
              "      <td>CVL</td>\n",
              "      <td>COMMUNITY</td>\n",
              "      <td>NaN</td>\n",
              "      <td>NaN</td>\n",
              "      <td>NaN</td>\n",
              "      <td>NaN</td>\n",
              "      <td>NaN</td>\n",
              "      <td>CVL</td>\n",
              "      <td>NaN</td>\n",
              "      <td>NaN</td>\n",
              "      <td>USA</td>\n",
              "      <td>DETROIT</td>\n",
              "      <td>USA</td>\n",
              "      <td>NaN</td>\n",
              "      <td>NaN</td>\n",
              "      <td>NaN</td>\n",
              "      <td>NaN</td>\n",
              "      <td>NaN</td>\n",
              "      <td>NaN</td>\n",
              "      <td>NaN</td>\n",
              "      <td>0</td>\n",
              "      <td>051</td>\n",
              "      <td>051</td>\n",
              "      <td>05</td>\n",
              "      <td>1</td>\n",
              "      <td>3.4</td>\n",
              "      <td>1</td>\n",
              "      <td>1</td>\n",
              "      <td>1</td>\n",
              "      <td>4.369919</td>\n",
              "      <td>2</td>\n",
              "      <td>Connecticut, United States</td>\n",
              "      <td>US</td>\n",
              "      <td>USCT</td>\n",
              "      <td>NaN</td>\n",
              "      <td>41.5834</td>\n",
              "      <td>-72.7622</td>\n",
              "      <td>CT</td>\n",
              "      <td>2</td>\n",
              "      <td>Connecticut, United States</td>\n",
              "      <td>US</td>\n",
              "      <td>USCT</td>\n",
              "      <td>NaN</td>\n",
              "      <td>41.5834</td>\n",
              "      <td>-72.7622</td>\n",
              "      <td>CT</td>\n",
              "      <td>2</td>\n",
              "      <td>Connecticut, United States</td>\n",
              "      <td>US</td>\n",
              "      <td>USCT</td>\n",
              "      <td>NaN</td>\n",
              "      <td>41.5834</td>\n",
              "      <td>-72.7622</td>\n",
              "      <td>CT</td>\n",
              "      <td>20210603204500</td>\n",
              "      <td>https://www.vcstar.com/story/news/2021/06/03/g...</td>\n",
              "    </tr>\n",
              "  </tbody>\n",
              "</table>\n",
              "</div>"
            ],
            "text/plain": [
              "   GlobalEventID  ...                                          SOURCEURL\n",
              "0      988405706  ...  http://www.journal-aviation.com/en/news/46098-...\n",
              "1      988405707  ...  https://arynews.tv/en/bahrain-booster-sinophar...\n",
              "2      988405708  ...  https://www.carolinajournal.com/news-article/s...\n",
              "3      988405709  ...  https://www.carolinajournal.com/news-article/s...\n",
              "4      988405710  ...  https://www.vcstar.com/story/news/2021/06/03/g...\n",
              "\n",
              "[5 rows x 61 columns]"
            ]
          },
          "metadata": {
            "tags": []
          },
          "execution_count": 16
        }
      ]
    },
    {
      "cell_type": "markdown",
      "metadata": {
        "id": "Sv5SEeqrPk1Z"
      },
      "source": [
        "# Write to Parquet files\n",
        "\n",
        "* Functions that could read and write into aprquet file\n",
        "* Main driver program that orchestrates all the flow"
      ]
    },
    {
      "cell_type": "code",
      "metadata": {
        "id": "9ebowvALS02u"
      },
      "source": [
        "\"\"\"\n",
        "The events data from current time will have duplicates\n",
        "As per sources mentioned below, News information is usually duplicated.\n",
        "Hence we use SOURCEURL as primary key and remove such duplicates from current events file\n",
        "\"\"\"\n",
        "def drop_duplicates_within_dataframe(tmpdf, primary_key=\"SOURCEURL\"):\n",
        "  tmpdf = tmpdf.drop_duplicates(subset=[primary_key], keep='last')\n",
        "  return tmpdf;\n",
        "\n",
        "\"\"\"\n",
        "The current events dataframe may have some duplicates with previous data.\n",
        "As some news information might get shared in both the files.\n",
        "Hence we need to remove this from current events file by referening previous events data.\n",
        "\n",
        "Reading entire parquet table and finding duplicates is a time consuming task especially if table sze is large.\n",
        "Hence we only read previous partition of parquet file and assume all the oher partitions have uniqur data.\n",
        "We compare this previous partition data with current events data.\n",
        "Duplicates from current events data are dropped.\n",
        "Hence this helps us to not read entire parquet table everytime and only read a single partition.\n",
        "\"\"\"\n",
        "\n",
        "def drop_duplicates_between_dataframes(previous_partition_dataframe, current_dataframe, primary_key = \"SOURCEURL\"):\n",
        "  result = pd.merge(current_dataframe, previous_partition_dataframe[primary_key], on=[primary_key, primary_key], how=\"left\", indicator=True).query('_merge == \"left_only\"').drop('_merge', 1)\n",
        "  return result;\n"
      ],
      "execution_count": 17,
      "outputs": []
    },
    {
      "cell_type": "code",
      "metadata": {
        "id": "ZHDMT12GS-wv"
      },
      "source": [
        "\"\"\"\n",
        "Get the latest partition from parquet file.\n",
        "We can get more previous partitions by setting part_num more than 1 \n",
        "\"\"\"\n",
        "def get_latest_partition_from_parquet(gdelt_parquet_file_path, part_num=1, engine = 'fastparquet'):\n",
        "  dask_dataframe = dd.read_parquet(gdelt_parquet_file_path, engine =engine)\n",
        "  latest_partition_dataframe = dask_dataframe.partitions[dask_dataframe.npartitions - part_num ]\n",
        "  print(latest_partition_dataframe.index.count().compute())\n",
        "  print(latest_partition_dataframe.head())\n",
        "  df = latest_partition_dataframe.compute()\n",
        "  return df;\n",
        "\n",
        "\n",
        "# # dask_dataframe = dd.read_parquet(gdelt_parquet_file_path, engine = 'fastparquet')\n",
        "\n",
        "# mydf = get_latest_partition_from_parquet(gdelt_parquet_file_path)\n",
        "# mydf.head()"
      ],
      "execution_count": 18,
      "outputs": []
    },
    {
      "cell_type": "code",
      "metadata": {
        "id": "i5YetiWWTEXU"
      },
      "source": [
        "\"\"\"\n",
        "1. Check if parquet file already exists. If it is not present then start new parquet file.\n",
        "Convert pandas dataframe to dask dataframe.\n",
        "Put it into a parquet table\n",
        "\n",
        "2. Check if parquet file already exists. If it is present then append to parquet file.\n",
        "Here we are not concerned about number partitions. But if we need to reduce number of small partitions then they ahev to be merged.\n",
        "In APAche spark this can be accomplisged by Coalesce function. But since we have not used spark we dont address this problem for now.\n",
        "Convert pandas dataframe to dask dataframe.\n",
        "Append it into a parquet table\n",
        "\"\"\"\n",
        "\n",
        "def write_to_parquet(parquet_table_path, pandas_dataframe, chunksize=10000, primary_key = \"GlobalEventID\"):\n",
        "  if not(os.path.exists(parquet_table_path)):\n",
        "    print(\"Creating new parquet\")\n",
        "    pandas_dataframe.set_index([primary_key], inplace=True)\n",
        "    dask_dataframe = dd.from_pandas(pandas_dataframe, chunksize=chunksize)\n",
        "    dask_dataframe.to_parquet(path=parquet_table_path,engine = 'fastparquet' )\n",
        "    print(dask_dataframe.head(3))\n",
        "  \n",
        "  else:\n",
        "    print(\"Appending to Parquet\")\n",
        "    existing_parquet_dataframe = dd.read_parquet(path=parquet_table_path, engine=\"pyarrow\")\n",
        "    print(\"Number of partitions: {}\".format(existing_parquet_dataframe.npartitions))\n",
        "    most_recent_partition = existing_parquet_dataframe.npartitions\n",
        "\n",
        "    pandas_dataframe.set_index([primary_key], inplace=True)\n",
        "    dask_dataframe = dd.from_pandas(pandas_dataframe, chunksize=chunksize)\n",
        "    dask_dataframe.to_parquet(path=parquet_table_path, engine = 'fastparquet', ignore_divisions=True, append=True)\n",
        "    # print(dask_dataframe.head(5, npartitions=most_recent_partition-1))\n",
        "  \n",
        "  return"
      ],
      "execution_count": 19,
      "outputs": []
    },
    {
      "cell_type": "code",
      "metadata": {
        "id": "NSHPamGxTPmo"
      },
      "source": [
        "# Read csv file into a dataframe of column names, field types\n",
        "def read_csv_to_dataframe(fil_path, field_dicts, separator, field_types):\n",
        "  df = pd.read_csv(fil_path, header=None, dtype=field_dicts, sep=separator, names=field_types)\n",
        "  return df\n"
      ],
      "execution_count": 20,
      "outputs": []
    },
    {
      "cell_type": "code",
      "metadata": {
        "id": "k9mEZ2QumsRF"
      },
      "source": [
        ""
      ],
      "execution_count": 20,
      "outputs": []
    },
    {
      "cell_type": "code",
      "metadata": {
        "id": "7gtQ8Hslmsaa"
      },
      "source": [
        "l,r = ['1',2]"
      ],
      "execution_count": 21,
      "outputs": []
    },
    {
      "cell_type": "code",
      "metadata": {
        "id": "0ShwGhJgQE-Z"
      },
      "source": [
        "\"\"\"\n",
        "Main driver program\n",
        "1. Gets the events file posted at GDELT\n",
        "2. Remove duplicates both within file and across file.\n",
        "3. Write the cleaned file into parquet\n",
        "\"\"\"\n",
        "\n",
        "def driver_program(url=url, gdelt_parquet_file_path=gdelt_parquet_file_path):\n",
        "  events_df = load_new_data(url=url)\n",
        "  print(events_df.shape)\n",
        "  events_df = drop_duplicates_within_dataframe(events_df)\n",
        "  print(events_df.shape)\n",
        "\n",
        "  if (os.path.exists(gdelt_parquet_file_path)):\n",
        "    latest_partition_dataframe = get_latest_partition_from_parquet(gdelt_parquet_file_path)\n",
        "    print(latest_partition_dataframe.shape)\n",
        "    events_df = drop_duplicates_between_dataframes(latest_partition_dataframe, events_df)\n",
        "    print(events_df.shape)\n",
        "  \n",
        "  # Write to parquet file if we have non zero records from cleaned events dataframe.\n",
        "  # If new events file has full duplicates then after cleaning its row count may be zero\n",
        "  # Hence no need to write those files\n",
        "  if (events_df.shape[0] > 0):\n",
        "    write_to_parquet(gdelt_parquet_file_path, events_df)\n",
        "\n",
        "  return\n"
      ],
      "execution_count": 22,
      "outputs": []
    },
    {
      "cell_type": "code",
      "metadata": {
        "colab": {
          "base_uri": "https://localhost:8080/"
        },
        "id": "ljHbPZiuVQpk",
        "outputId": "7f7e2a47-e11d-4e11-8061-3ef493a464d0"
      },
      "source": [
        "driver_program()"
      ],
      "execution_count": 23,
      "outputs": [
        {
          "output_type": "stream",
          "text": [
            "97368 94d0ee7a187dc36756849b8448a8893c http://data.gdeltproject.org/gdeltv2/20210603204500.export.CSV.zip\n",
            "167216 ea70f65cb6149b8bc38d2022c23736cd http://data.gdeltproject.org/gdeltv2/20210603204500.mentions.CSV.zip\n",
            "7446267 e789b3333692668e10f5aa67152587d0 http://data.gdeltproject.org/gdeltv2/20210603204500.gkg.csv.zip\n",
            "(1381, 61)\n",
            "(318, 61)\n",
            "318\n",
            "                    Day  ...                                          SOURCEURL\n",
            "GlobalEventID            ...                                                   \n",
            "988405707      20200603  ...  https://arynews.tv/en/bahrain-booster-sinophar...\n",
            "988405710      20200603  ...  https://www.vcstar.com/story/news/2021/06/03/g...\n",
            "988405727      20210504  ...  https://www.theguardian.com/education/2021/jun...\n",
            "988405728      20210504  ...  https://www.vanityfair.com/news/2021/06/andrew...\n",
            "988405731      20210504  ...  https://www.forbes.com/sites/joewalsh/2021/06/...\n",
            "\n",
            "[5 rows x 60 columns]\n",
            "(318, 60)\n",
            "(0, 61)\n"
          ],
          "name": "stdout"
        }
      ]
    },
    {
      "cell_type": "code",
      "metadata": {
        "id": "7z33iFaLVQs2"
      },
      "source": [
        ""
      ],
      "execution_count": 23,
      "outputs": []
    },
    {
      "cell_type": "markdown",
      "metadata": {
        "id": "5pUvWNELPlKp"
      },
      "source": [
        "# Scheduler\n",
        "\n",
        "Job has been scheduled to run every 15 minutes"
      ]
    },
    {
      "cell_type": "code",
      "metadata": {
        "id": "GsEoBKEvl2Z_"
      },
      "source": [
        ""
      ],
      "execution_count": 85,
      "outputs": []
    },
    {
      "cell_type": "code",
      "metadata": {
        "colab": {
          "base_uri": "https://localhost:8080/",
          "height": 1000
        },
        "id": "rBSdgwQtQFnA",
        "outputId": "c8f1623a-3cd4-456a-ef35-c960bf8501b0"
      },
      "source": [
        "#Schedule the script for every 15 minutes \n",
        "schedule.every(15).seconds.do(driver_program)\n",
        "\n",
        "while True:\n",
        "    schedule.run_pending()\n",
        "    time.sleep(1)"
      ],
      "execution_count": 24,
      "outputs": [
        {
          "output_type": "stream",
          "text": [
            "97368 94d0ee7a187dc36756849b8448a8893c http://data.gdeltproject.org/gdeltv2/20210603204500.export.CSV.zip\n",
            "167216 ea70f65cb6149b8bc38d2022c23736cd http://data.gdeltproject.org/gdeltv2/20210603204500.mentions.CSV.zip\n",
            "7446267 e789b3333692668e10f5aa67152587d0 http://data.gdeltproject.org/gdeltv2/20210603204500.gkg.csv.zip\n",
            "(1381, 61)\n",
            "(318, 61)\n",
            "318\n",
            "                    Day  ...                                          SOURCEURL\n",
            "GlobalEventID            ...                                                   \n",
            "988405707      20200603  ...  https://arynews.tv/en/bahrain-booster-sinophar...\n",
            "988405710      20200603  ...  https://www.vcstar.com/story/news/2021/06/03/g...\n",
            "988405727      20210504  ...  https://www.theguardian.com/education/2021/jun...\n",
            "988405728      20210504  ...  https://www.vanityfair.com/news/2021/06/andrew...\n",
            "988405731      20210504  ...  https://www.forbes.com/sites/joewalsh/2021/06/...\n",
            "\n",
            "[5 rows x 60 columns]\n",
            "(318, 60)\n",
            "(0, 61)\n",
            "97368 94d0ee7a187dc36756849b8448a8893c http://data.gdeltproject.org/gdeltv2/20210603204500.export.CSV.zip\n",
            "167216 ea70f65cb6149b8bc38d2022c23736cd http://data.gdeltproject.org/gdeltv2/20210603204500.mentions.CSV.zip\n",
            "7446267 e789b3333692668e10f5aa67152587d0 http://data.gdeltproject.org/gdeltv2/20210603204500.gkg.csv.zip\n",
            "(1381, 61)\n",
            "(318, 61)\n",
            "318\n",
            "                    Day  ...                                          SOURCEURL\n",
            "GlobalEventID            ...                                                   \n",
            "988405707      20200603  ...  https://arynews.tv/en/bahrain-booster-sinophar...\n",
            "988405710      20200603  ...  https://www.vcstar.com/story/news/2021/06/03/g...\n",
            "988405727      20210504  ...  https://www.theguardian.com/education/2021/jun...\n",
            "988405728      20210504  ...  https://www.vanityfair.com/news/2021/06/andrew...\n",
            "988405731      20210504  ...  https://www.forbes.com/sites/joewalsh/2021/06/...\n",
            "\n",
            "[5 rows x 60 columns]\n",
            "(318, 60)\n",
            "(0, 61)\n",
            "94575 077994d032dab72b7c939b54b95c0ab7 http://data.gdeltproject.org/gdeltv2/20210603210000.export.CSV.zip\n",
            "177691 2625ff6e9fb99a7a9d21a300a6bf249b http://data.gdeltproject.org/gdeltv2/20210603210000.mentions.CSV.zip\n",
            "7818151 ec8cf7cce5e013dac8ec30fa68a85022 http://data.gdeltproject.org/gdeltv2/20210603210000.gkg.csv.zip\n",
            "(1384, 61)\n",
            "(309, 61)\n",
            "318\n",
            "                    Day  ...                                          SOURCEURL\n",
            "GlobalEventID            ...                                                   \n",
            "988405707      20200603  ...  https://arynews.tv/en/bahrain-booster-sinophar...\n",
            "988405710      20200603  ...  https://www.vcstar.com/story/news/2021/06/03/g...\n",
            "988405727      20210504  ...  https://www.theguardian.com/education/2021/jun...\n",
            "988405728      20210504  ...  https://www.vanityfair.com/news/2021/06/andrew...\n",
            "988405731      20210504  ...  https://www.forbes.com/sites/joewalsh/2021/06/...\n",
            "\n",
            "[5 rows x 60 columns]\n",
            "(318, 60)\n",
            "(309, 61)\n",
            "Appending to Parquet\n",
            "Number of partitions: 5\n",
            "94575 077994d032dab72b7c939b54b95c0ab7 http://data.gdeltproject.org/gdeltv2/20210603210000.export.CSV.zip\n",
            "177691 2625ff6e9fb99a7a9d21a300a6bf249b http://data.gdeltproject.org/gdeltv2/20210603210000.mentions.CSV.zip\n",
            "7818151 ec8cf7cce5e013dac8ec30fa68a85022 http://data.gdeltproject.org/gdeltv2/20210603210000.gkg.csv.zip\n",
            "(1384, 61)\n",
            "(309, 61)\n",
            "309\n",
            "                    Day  ...                                          SOURCEURL\n",
            "GlobalEventID            ...                                                   \n",
            "988407649      20200603  ...  https://www.sthelensstar.co.uk/news/19348451.m...\n",
            "988407650      20200603  ...  https://www.aa.com.tr/en/economy/turkeys-gas-r...\n",
            "988407653      20200603  ...  https://www.joe.ie/gaming/god-war-ragnarok-off...\n",
            "988407654      20200603  ...  https://www.leadvilleherald.com/news/article_3...\n",
            "988407655      20200603  ...  https://www.parisguardian.com/news/269746813/t...\n",
            "\n",
            "[5 rows x 60 columns]\n",
            "(309, 60)\n",
            "(0, 61)\n",
            "94575 077994d032dab72b7c939b54b95c0ab7 http://data.gdeltproject.org/gdeltv2/20210603210000.export.CSV.zip\n",
            "177691 2625ff6e9fb99a7a9d21a300a6bf249b http://data.gdeltproject.org/gdeltv2/20210603210000.mentions.CSV.zip\n",
            "7818151 ec8cf7cce5e013dac8ec30fa68a85022 http://data.gdeltproject.org/gdeltv2/20210603210000.gkg.csv.zip\n",
            "(1384, 61)\n",
            "(309, 61)\n",
            "309\n",
            "                    Day  ...                                          SOURCEURL\n",
            "GlobalEventID            ...                                                   \n",
            "988407649      20200603  ...  https://www.sthelensstar.co.uk/news/19348451.m...\n",
            "988407650      20200603  ...  https://www.aa.com.tr/en/economy/turkeys-gas-r...\n",
            "988407653      20200603  ...  https://www.joe.ie/gaming/god-war-ragnarok-off...\n",
            "988407654      20200603  ...  https://www.leadvilleherald.com/news/article_3...\n",
            "988407655      20200603  ...  https://www.parisguardian.com/news/269746813/t...\n",
            "\n",
            "[5 rows x 60 columns]\n",
            "(309, 60)\n",
            "(0, 61)\n"
          ],
          "name": "stdout"
        },
        {
          "output_type": "error",
          "ename": "KeyboardInterrupt",
          "evalue": "ignored",
          "traceback": [
            "\u001b[0;31m---------------------------------------------------------------------------\u001b[0m",
            "\u001b[0;31mKeyboardInterrupt\u001b[0m                         Traceback (most recent call last)",
            "\u001b[0;32m<ipython-input-24-1e593224012d>\u001b[0m in \u001b[0;36m<module>\u001b[0;34m()\u001b[0m\n\u001b[1;32m      4\u001b[0m \u001b[0;32mwhile\u001b[0m \u001b[0;32mTrue\u001b[0m\u001b[0;34m:\u001b[0m\u001b[0;34m\u001b[0m\u001b[0;34m\u001b[0m\u001b[0m\n\u001b[1;32m      5\u001b[0m     \u001b[0mschedule\u001b[0m\u001b[0;34m.\u001b[0m\u001b[0mrun_pending\u001b[0m\u001b[0;34m(\u001b[0m\u001b[0;34m)\u001b[0m\u001b[0;34m\u001b[0m\u001b[0;34m\u001b[0m\u001b[0m\n\u001b[0;32m----> 6\u001b[0;31m     \u001b[0mtime\u001b[0m\u001b[0;34m.\u001b[0m\u001b[0msleep\u001b[0m\u001b[0;34m(\u001b[0m\u001b[0;36m1\u001b[0m\u001b[0;34m)\u001b[0m\u001b[0;34m\u001b[0m\u001b[0;34m\u001b[0m\u001b[0m\n\u001b[0m",
            "\u001b[0;31mKeyboardInterrupt\u001b[0m: "
          ]
        }
      ]
    },
    {
      "cell_type": "code",
      "metadata": {
        "id": "pZ9YGRqlQFpy"
      },
      "source": [
        ""
      ],
      "execution_count": null,
      "outputs": []
    }
  ]
}
